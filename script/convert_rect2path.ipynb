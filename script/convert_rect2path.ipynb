{
 "cells": [
  {
   "cell_type": "markdown",
   "metadata": {},
   "source": [
    "### Figma中存在rect元素，将其全部转为Path"
   ]
  },
  {
   "cell_type": "code",
   "execution_count": 1,
   "metadata": {},
   "outputs": [],
   "source": [
    "import xml.etree.ElementTree as ET\n",
    "from svgelements import Rect, Matrix\n",
    "# 加载SVG文件\n",
    "def parse_svg(svg_file):\n",
    "    # 解析SVG文件\n",
    "    tree = ET.parse(svg_file)\n",
    "    root = tree.getroot()\n",
    "    # 命名空间 (一般SVG文件会包含默认的命名空间)\n",
    "    # 根据具体的SVG文件，可能需要调整命名空间前缀\n",
    "    namespace = {'svg': 'http://www.w3.org/2000/svg'}\n",
    "    \n",
    "    # 查找所有 <g> 元素\n",
    "    root_g = root.find('./svg:g', namespace)  # 使用命名空间避免解析问题\n",
    "    g_elements = root_g.findall('./svg:g', namespace)  # 使用命名空间避免解析问题\n",
    "    \n",
    "    layers = {}\n",
    "    # 遍历 <g> 元素并提取属性 （图层）\n",
    "    for g in g_elements:\n",
    "        # print(f\"Found <g> element with attributes: {g.attrib}\")\n",
    "        elements = []\n",
    "        # 如果需要进一步提取 <g> （图层） 内子元素及其信息\n",
    "        for child in g:\n",
    "            childTag = child.tag.replace('{http://www.w3.org/2000/svg}','')\n",
    "            if childTag == \"rect\":\n",
    "                rect_attr = child.attrib\n",
    "                rect_tranform = rect_attr.get(\"transform\", \"\")\n",
    "                if rect_tranform:\n",
    "                    d = Rect(rect_attr['x'], rect_attr['y'], rect_attr['width'], rect_attr['height'], transform=rect_tranform).d()\n",
    "                else:\n",
    "                    d = Rect(rect_attr['x'], rect_attr['y'], rect_attr['width'], rect_attr['height']).d()\n",
    "                del rect_attr['x']\n",
    "                del rect_attr['y']\n",
    "                del rect_attr['width']\n",
    "                del rect_attr['height']\n",
    "                rect_attr['d'] = d\n",
    "                elements.append({**rect_attr, 'tag': 'path'})\n",
    "                continue\n",
    "            elements.append({**child.attrib, 'tag': childTag})\n",
    "        layers[g.attrib['id']] = elements\n",
    "    return layers\n",
    "\n",
    "# 示例SVG文件路径\n",
    "svg_file = '../public/Changan.svg'  # 替换为你的SVG文件路径\n",
    "layers = parse_svg(svg_file)\n"
   ]
  },
  {
   "cell_type": "code",
   "execution_count": 2,
   "metadata": {},
   "outputs": [],
   "source": [
    "import json\n",
    "with open(\"../public/TangData.json\", \"w\", encoding=\"utf-8\") as f:\n",
    "    f.write(json.dumps(layers, ensure_ascii=False))"
   ]
  }
 ],
 "metadata": {
  "kernelspec": {
   "display_name": "ancient_vis",
   "language": "python",
   "name": "python3"
  },
  "language_info": {
   "codemirror_mode": {
    "name": "ipython",
    "version": 3
   },
   "file_extension": ".py",
   "mimetype": "text/x-python",
   "name": "python",
   "nbconvert_exporter": "python",
   "pygments_lexer": "ipython3",
   "version": "3.10.13"
  }
 },
 "nbformat": 4,
 "nbformat_minor": 2
}
