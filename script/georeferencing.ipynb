{
 "cells": [
  {
   "cell_type": "markdown",
   "metadata": {},
   "source": [
    "https://stackoverflow.com/questions/58688630/how-to-find-lat-long-coordinates-in-a-image-if-we-have-lat-long-of-4-corners"
   ]
  },
  {
   "cell_type": "code",
   "execution_count": 36,
   "metadata": {},
   "outputs": [],
   "source": [
    "pixel_coords = [\n",
    "    (96,424), \n",
    "    (95,787), \n",
    "    (94,1026), \n",
    "    (202,1026),\n",
    "    (388,1030),\n",
    "    (513,1030),\n",
    "    (635,1028),\n",
    "    (925,781),\n",
    "    (925,582),\n",
    "    (926,424),\n",
    "    (718,126),\n",
    "    (642,37),\n",
    "    (751,39),\n",
    "]\n",
    "geo_coords = [\n",
    "    (34.2759015241887, 108.92506666528092), \n",
    "    (34.25926848604655, 108.92494291592139), \n",
    "    (34.251552035063845, 108.92435575331085), \n",
    "    (34.25140643484652, 108.93198886724777),\n",
    "    (34.25174616829505, 108.93915225109627),\n",
    "    (34.25145496828041, 108.94696895264077),\n",
    "    (34.25198020564616, 108.95404763618076),\n",
    "    (34.259849965745964, 108.97167379330767),\n",
    "    (34.264396337839905, 108.97099423711788),\n",
    "    (34.27008036792747, 108.97152003713012),\n",
    "    (34.296364858478356, 108.96425360877333),\n",
    "    (34.303211356807374, 108.95654409077952),\n",
    "    (34.303848212000716, 108.96945753341917),\n",
    "]"
   ]
  },
  {
   "cell_type": "code",
   "execution_count": 37,
   "metadata": {},
   "outputs": [
    {
     "name": "stdout",
     "output_type": "stream",
     "text": [
      "108.96510450103638 34.24618568434446\n"
     ]
    }
   ],
   "source": [
    "def GetLatandLong(top_Left_Lat, top_Left_Long, bottom_Right_Lat, bottom_Right_Long,img_Width,img_Height, target_Top, target_Left):\n",
    "    diff_Between_Top_Bottom_Lat = bottom_Right_Lat - top_Left_Lat\n",
    "    percentage_Of_Total_Lat_In_Picture = diff_Between_Top_Bottom_Lat/90*100\n",
    "    image_Size_Height_Required_To_Cover_Entire_Earth = img_Height/percentage_Of_Total_Lat_In_Picture*100\n",
    "    top_Left_Percentage_Of_Lat = top_Left_Lat/90*100\n",
    "    top_Left_Pixel_In_Image = image_Size_Height_Required_To_Cover_Entire_Earth*top_Left_Percentage_Of_Lat/100\n",
    "    target_Pixel_In_Whole_Earth_Image = top_Left_Pixel_In_Image + target_Top\n",
    "    percentage_Of_Target_In_Image = target_Pixel_In_Whole_Earth_Image/image_Size_Height_Required_To_Cover_Entire_Earth*100    \n",
    "    target_Lat = percentage_Of_Target_In_Image*90/100\n",
    "\n",
    "\n",
    "    diff_Between_Top_Bottom_Long = bottom_Right_Long - top_Left_Long\n",
    "    percentage_Of_Total_Long_In_Picture = diff_Between_Top_Bottom_Long/180*100\n",
    "    image_Size_Width_Required_To_Cover_Entire_Earth = img_Width/percentage_Of_Total_Long_In_Picture*100\n",
    "    top_Left_Percentage_Of_Long = top_Left_Long/180*100\n",
    "    top_Left_Pixel_In_Image = image_Size_Width_Required_To_Cover_Entire_Earth*top_Left_Percentage_Of_Long/100\n",
    "    target_Pixel_In_Whole_Earth_Image = top_Left_Pixel_In_Image + target_Left\n",
    "    percentage_Of_Target_In_Image = target_Pixel_In_Whole_Earth_Image/image_Size_Width_Required_To_Cover_Entire_Earth*100    \n",
    "    target_Long = percentage_Of_Target_In_Image*180/100\n",
    "\n",
    "    return target_Lat,target_Long\n",
    "\n",
    "\n",
    "target_Lat,target_Long = GetLatandLong(108.92506666528092, 34.2759015241887, 108.97147272373135, 34.25202478906093, 826, 736, 635, 1028)\n",
    "\n",
    "print(target_Lat,target_Long)"
   ]
  },
  {
   "cell_type": "code",
   "execution_count": 38,
   "metadata": {},
   "outputs": [
    {
     "name": "stdout",
     "output_type": "stream",
     "text": [
      "302.1812128802883m, 676.8282201334204m\n"
     ]
    }
   ],
   "source": [
    "accumulated_lat_error = 0\n",
    "accumulated_long_error = 0\n",
    "ratio = 1000/0.01\n",
    "for pixel, geo in zip(pixel_coords, geo_coords):\n",
    "    # lat, long = GetLatandLong(108.92506666528092, 34.2759015241887, 108.97147272373135, 34.25202478906093, 826, 736, pixel[0], pixel[1])\n",
    "    lat, long = GetLatandLong(108.922624, 34.303389, 108.97179950596079, 34.2516796656732, 830, 996, pixel[0], pixel[1])\n",
    "    lat_error, long_error = abs(geo[1] - lat), abs(geo[0] - long)\n",
    "    accumulated_long_error += long_error\n",
    "    accumulated_lat_error += lat_error\n",
    "    # print(lat_error, long_error)\n",
    "avg_lat_err, avg_lon_err = accumulated_lat_error/len(pixel_coords), accumulated_long_error/len(pixel_coords)\n",
    "print(f\"{avg_lat_err*ratio}m, {avg_lon_err*ratio}m\")"
   ]
  }
 ],
 "metadata": {
  "kernelspec": {
   "display_name": "auto_legend",
   "language": "python",
   "name": "python3"
  },
  "language_info": {
   "codemirror_mode": {
    "name": "ipython",
    "version": 3
   },
   "file_extension": ".py",
   "mimetype": "text/x-python",
   "name": "python",
   "nbconvert_exporter": "python",
   "pygments_lexer": "ipython3",
   "version": "3.10.8"
  }
 },
 "nbformat": 4,
 "nbformat_minor": 2
}
